{
 "cells": [
  {
   "cell_type": "code",
   "execution_count": 1,
   "id": "a4a01ba6-9287-443f-92b1-cb23b6def5c6",
   "metadata": {},
   "outputs": [],
   "source": [
    "import smtplib\n",
    "from email.mime.text import MIMEText\n",
    "from email.mime.multipart import MIMEMultipart"
   ]
  },
  {
   "cell_type": "code",
   "execution_count": 4,
   "id": "cb31f320-fdba-4bc0-9ef7-d99faf218a3e",
   "metadata": {},
   "outputs": [
    {
     "name": "stdout",
     "output_type": "stream",
     "text": [
      "Email sent successfully!\n"
     ]
    }
   ],
   "source": [
    "def send_email(sender_email, sender_password, receiver_emails, message_body):\n",
    "    smtp_server = your smtp server\n",
    "    smtp_port = 587\n",
    "\n",
    "    msg = MIMEMultipart()\n",
    "    msg['From'] = sender_email\n",
    "    msg['To'] = ', '.join(receiver_emails)\n",
    "    msg['Subject'] = 'subject will be here'\n",
    "    \n",
    "    msg.attach(MIMEText(message_body, 'plain'))\n",
    "\n",
    "    try:\n",
    "        server = smtplib.SMTP(smtp_server, smtp_port)\n",
    "        server.login(sender_email, sender_password)\n",
    "        server.sendmail(sender_email, receiver_emails, msg.as_string())\n",
    "        print(\"Email sent successfully!\")\n",
    "\n",
    "    except Exception as e:\n",
    "        print(\"Error: Unable to send email.\")\n",
    "        print(e)\n",
    "\n",
    "    finally:\n",
    "        server.quit()\n",
    "\n",
    "# usage example\n",
    "sender_email =your_mail_name\n",
    "sender_password = your_password\n",
    "receiver_emails = [name of people]\n",
    "#u can change it based on your needs\n",
    "message_body = 'This is the message body.'\n",
    "\n",
    "send_email(sender_email, sender_password, receiver_emails, message_body)"
   ]
  },
  {
   "cell_type": "code",
   "execution_count": null,
   "id": "f89385b4-71aa-4927-b007-e460738fcc3e",
   "metadata": {},
   "outputs": [],
   "source": []
  }
 ],
 "metadata": {
  "kernelspec": {
   "display_name": "Python 3 (ipykernel)",
   "language": "python",
   "name": "python3"
  },
  "language_info": {
   "codemirror_mode": {
    "name": "ipython",
    "version": 3
   },
   "file_extension": ".py",
   "mimetype": "text/x-python",
   "name": "python",
   "nbconvert_exporter": "python",
   "pygments_lexer": "ipython3",
   "version": "3.12.3"
  }
 },
 "nbformat": 4,
 "nbformat_minor": 5
}
